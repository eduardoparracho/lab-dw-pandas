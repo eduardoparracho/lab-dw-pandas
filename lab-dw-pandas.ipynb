{
 "cells": [
  {
   "cell_type": "markdown",
   "id": "25d7736c-ba17-4aff-b6bb-66eba20fbf4e",
   "metadata": {},
   "source": [
    "# Lab | Pandas"
   ]
  },
  {
   "cell_type": "markdown",
   "id": "d1973e9e-8be6-4039-b70e-d73ee0d94c99",
   "metadata": {},
   "source": [
    "In this lab, we will be working with the customer data from an insurance company, which can be found in the CSV file located at the following link: https://raw.githubusercontent.com/data-bootcamp-v4/data/main/file1.csv\n",
    "\n",
    "The data includes information such as customer ID, state, gender, education, income, and other variables that can be used to perform various analyses.\n",
    "\n",
    "Throughout the lab, we will be using the pandas library in Python to manipulate and analyze the data. Pandas is a powerful library that provides various data manipulation and analysis tools, including the ability to load and manipulate data from a variety of sources, including CSV files."
   ]
  },
  {
   "cell_type": "markdown",
   "id": "8045146f-f4f7-44d9-8cd9-130d6400c73a",
   "metadata": {},
   "source": [
    "### Data Description\n",
    "\n",
    "- Customer - Customer ID\n",
    "\n",
    "- ST - State where customers live\n",
    "\n",
    "- Gender - Gender of the customer\n",
    "\n",
    "- Education - Background education of customers \n",
    "\n",
    "- Customer Lifetime Value - Customer lifetime value(CLV) is the total revenue the client will derive from their entire relationship with a customer. In other words, is the predicted or calculated value of a customer over their entire duration as a policyholder with the insurance company. It is an estimation of the net profit that the insurance company expects to generate from a customer throughout their relationship with the company. Customer Lifetime Value takes into account factors such as the duration of the customer's policy, premium payments, claim history, renewal likelihood, and potential additional services or products the customer may purchase. It helps insurers assess the long-term profitability and value associated with retaining a particular customer.\n",
    "\n",
    "- Income - Customers income\n",
    "\n",
    "- Monthly Premium Auto - Amount of money the customer pays on a monthly basis as a premium for their auto insurance coverage. It represents the recurring cost that the insured person must pay to maintain their insurance policy and receive coverage for potential damages, accidents, or other covered events related to their vehicle.\n",
    "\n",
    "- Number of Open Complaints - Number of complaints the customer opened\n",
    "\n",
    "- Policy Type - There are three type of policies in car insurance (Corporate Auto, Personal Auto, and Special Auto)\n",
    "\n",
    "- Vehicle Class - Type of vehicle classes that customers have Two-Door Car, Four-Door Car SUV, Luxury SUV, Sports Car, and Luxury Car\n",
    "\n",
    "- Total Claim Amount - the sum of all claims made by the customer. It represents the total monetary value of all approved claims for incidents such as accidents, theft, vandalism, or other covered events.\n"
   ]
  },
  {
   "cell_type": "markdown",
   "id": "3a72419b-20fc-4905-817a-8c83abc59de6",
   "metadata": {},
   "source": [
    "External Resources: https://towardsdatascience.com/filtering-data-frames-in-pandas-b570b1f834b9"
   ]
  },
  {
   "cell_type": "markdown",
   "id": "8f8ece17-e919-4e23-96c0-c7c59778436a",
   "metadata": {},
   "source": [
    "## Challenge 1: Understanding the data\n",
    "\n",
    "In this challenge, you will use pandas to explore a given dataset. Your task is to gain a deep understanding of the data by analyzing its characteristics, dimensions, and statistical properties."
   ]
  },
  {
   "cell_type": "markdown",
   "id": "91437bd5-59a6-49c0-8150-ef0e6e6eb253",
   "metadata": {},
   "source": [
    "- Identify the dimensions of the dataset by determining the number of rows and columns it contains.\n",
    "- Determine the data types of each column and evaluate whether they are appropriate for the nature of the variable. You should also provide suggestions for fixing any incorrect data types.\n",
    "- Identify the number of unique values for each column and determine which columns appear to be categorical. You should also describe the unique values of each categorical column and the range of values for numerical columns, and give your insights.\n",
    "- Compute summary statistics such as mean, median, mode, standard deviation, and quartiles to understand the central tendency and distribution of the data for numerical columns. You should also provide your conclusions based on these summary statistics.\n",
    "- Compute summary statistics for categorical columns and providing your conclusions based on these statistics."
   ]
  },
  {
   "cell_type": "code",
   "execution_count": 1,
   "id": "dd4e8cd8-a6f6-486c-a5c4-1745b0c035f4",
   "metadata": {},
   "outputs": [
    {
     "name": "stdout",
     "output_type": "stream",
     "text": [
      "(4008, 11)\n",
      "Index(['Customer', 'ST', 'GENDER', 'Education', 'Customer Lifetime Value',\n",
      "       'Income', 'Monthly Premium Auto', 'Number of Open Complaints',\n",
      "       'Policy Type', 'Vehicle Class', 'Total Claim Amount'],\n",
      "      dtype='object')\n",
      "(4008, 11)\n",
      "Index(['Customer', 'State', 'Gender', 'Education', 'CLV', 'Income', 'MPA',\n",
      "       'NOC', 'PolicyType', 'VehicleClass', 'TCA'],\n",
      "      dtype='object')\n"
     ]
    }
   ],
   "source": [
    "import pandas as pd\n",
    "\n",
    "df = pd.read_csv(\"https://raw.githubusercontent.com/data-bootcamp-v4/data/main/file1.csv\")\n",
    "\n",
    "#get shape of dataframe\n",
    "print(df.shape) \n",
    "print(df.columns)\n",
    "\n",
    "df.rename(columns = {'ST':'State', 'GENDER':'Gender', 'Customer Lifetime Value':'CLV', 'Monthly Premium Auto':'MPA', 'Number of Open Complaints':'NOC','Policy Type':'PolicyType', 'Vehicle Class':'VehicleClass', 'Total Claim Amount':'TCA'}, inplace = True)\n",
    "\n",
    "print(df.shape) \n",
    "print(df.columns)\n",
    "\n"
   ]
  },
  {
   "cell_type": "code",
   "execution_count": 2,
   "id": "f93efd58",
   "metadata": {},
   "outputs": [
    {
     "name": "stdout",
     "output_type": "stream",
     "text": [
      "Customer\n",
      "NaN        2937\n",
      "KH59823       1\n",
      "HQ82233       1\n",
      "OL72737       1\n",
      "ZQ59828       1\n",
      "           ... \n",
      "RO26085       1\n",
      "ES57969       1\n",
      "JK55587       1\n",
      "RN97635       1\n",
      "TA82973       1\n",
      "Name: count, Length: 1072, dtype: int64\n",
      "     Customer       State Gender             Education          CLV   Income  \\\n",
      "0     RB50392  Washington    NaN                Master          NaN      0.0   \n",
      "1     QZ44356     Arizona      F              Bachelor   697953.59%      0.0   \n",
      "2     AI49188      Nevada      F              Bachelor  1288743.17%  48767.0   \n",
      "3     WW63253  California      M              Bachelor   764586.18%      0.0   \n",
      "4     GA49547  Washington      M  High School or Below   536307.65%  36357.0   \n",
      "...       ...         ...    ...                   ...          ...      ...   \n",
      "1066  TM65736      Oregon      M                Master   305955.03%  38644.0   \n",
      "1067  VJ51327        Cali      F  High School or Below  2031499.76%  63209.0   \n",
      "1068  GS98873     Arizona      F              Bachelor   323912.47%  16061.0   \n",
      "1069  CW49887  California      F                Master   462680.11%  79487.0   \n",
      "1070  MY31220  California      F               College   899704.02%  54230.0   \n",
      "\n",
      "         MPA     NOC      PolicyType   VehicleClass          TCA  \n",
      "0     1000.0  1/0/00   Personal Auto  Four-Door Car     2.704934  \n",
      "1       94.0  1/0/00   Personal Auto  Four-Door Car  1131.464935  \n",
      "2      108.0  1/0/00   Personal Auto   Two-Door Car   566.472247  \n",
      "3      106.0  1/0/00  Corporate Auto            SUV   529.881344  \n",
      "4       68.0  1/0/00   Personal Auto  Four-Door Car    17.269323  \n",
      "...      ...     ...             ...            ...          ...  \n",
      "1066    78.0  1/1/00   Personal Auto  Four-Door Car   361.455219  \n",
      "1067   102.0  1/2/00   Personal Auto            SUV   207.320041  \n",
      "1068    88.0  1/0/00   Personal Auto  Four-Door Car   633.600000  \n",
      "1069   114.0  1/0/00    Special Auto            SUV   547.200000  \n",
      "1070   112.0  1/0/00   Personal Auto   Two-Door Car   537.600000  \n",
      "\n",
      "[1071 rows x 11 columns]\n"
     ]
    }
   ],
   "source": [
    "cust_series = df[\"Customer\"].value_counts(dropna=False)\n",
    "print(cust_series)\n",
    "#2937 lines with no Customers\n",
    "\n",
    "df_clean = df.copy()\n",
    "#lets create a new dataframe with no NaN Customers, as the rest of the information is dependent on knowing the customer ID\n",
    "df_clean.dropna(subset=[\"Customer\"],inplace=True)\n",
    "cust_series = df_clean[\"Customer\"].value_counts()\n",
    "print(df_clean)\n",
    "\n",
    "#The rest of the data seems ok, as the costumer ID's seem to represent unique ID's with no repeats"
   ]
  },
  {
   "cell_type": "code",
   "execution_count": 3,
   "id": "c36ac8b7",
   "metadata": {},
   "outputs": [
    {
     "name": "stdout",
     "output_type": "stream",
     "text": [
      "Gender\n",
      "F         457\n",
      "M         413\n",
      "NaN       117\n",
      "Male       39\n",
      "female     28\n",
      "Femal      17\n",
      "Name: count, dtype: int64\n",
      "Gender\n",
      "F      502\n",
      "M      452\n",
      "NaN    117\n",
      "Name: count, dtype: int64\n"
     ]
    },
    {
     "name": "stderr",
     "output_type": "stream",
     "text": [
      "C:\\Users\\LENOVO\\AppData\\Local\\Temp\\ipykernel_41808\\2674062076.py:7: FutureWarning: A value is trying to be set on a copy of a DataFrame or Series through chained assignment using an inplace method.\n",
      "The behavior will change in pandas 3.0. This inplace method will never work because the intermediate object on which we are setting values always behaves as a copy.\n",
      "\n",
      "For example, when doing 'df[col].method(value, inplace=True)', try using 'df.method({col: value}, inplace=True)' or df[col] = df[col].method(value) instead, to perform the operation inplace on the original object.\n",
      "\n",
      "\n",
      "  df_clean[\"Gender\"].replace(to_replace=[\"Female\", \"Femal\", \"female\"], value=\"F\", inplace=True)\n"
     ]
    }
   ],
   "source": [
    "gender_series = df_clean[\"Gender\"].value_counts(dropna=False)\n",
    "print(gender_series)\n",
    "\n",
    "#some Nan, but it can be ignored for now. A lot of spelling mistakes / inconsistencies.\n",
    "#Lets settle on F and M to identify the gender\n",
    "\n",
    "df_clean[\"Gender\"].replace(to_replace=[\"Female\", \"Femal\", \"female\"], value=\"F\", inplace=True)\n",
    "df_clean[\"Gender\"].replace(to_replace=[\"Male\"], value=\"M\", inplace=True)\n",
    "\n",
    "gender_series = df_clean[\"Gender\"].value_counts(dropna=False)\n",
    "print(gender_series)\n",
    "\n"
   ]
  },
  {
   "cell_type": "code",
   "execution_count": 4,
   "id": "99bfd66e",
   "metadata": {},
   "outputs": [
    {
     "name": "stdout",
     "output_type": "stream",
     "text": [
      "State\n",
      "Oregon        320\n",
      "California    211\n",
      "Arizona       186\n",
      "Cali          120\n",
      "Nevada         98\n",
      "Washington     81\n",
      "WA             30\n",
      "AZ             25\n",
      "Name: count, dtype: int64\n",
      "State\n",
      "OR      320\n",
      "AZ      211\n",
      "CA      211\n",
      "Cali    120\n",
      "WA      111\n",
      "NV       98\n",
      "Name: count, dtype: int64\n",
      "State\n",
      "CA    331\n",
      "OR    320\n",
      "AZ    211\n",
      "WA    111\n",
      "NV     98\n",
      "Name: count, dtype: int64\n"
     ]
    },
    {
     "name": "stderr",
     "output_type": "stream",
     "text": [
      "C:\\Users\\LENOVO\\AppData\\Local\\Temp\\ipykernel_41808\\2418104349.py:57: FutureWarning: A value is trying to be set on a copy of a DataFrame or Series through chained assignment using an inplace method.\n",
      "The behavior will change in pandas 3.0. This inplace method will never work because the intermediate object on which we are setting values always behaves as a copy.\n",
      "\n",
      "For example, when doing 'df[col].method(value, inplace=True)', try using 'df.method({col: value}, inplace=True)' or df[col] = df[col].method(value) instead, to perform the operation inplace on the original object.\n",
      "\n",
      "\n",
      "  df_clean[\"State\"].replace(us_states_codes, inplace=True)\n"
     ]
    }
   ],
   "source": [
    "us_states_codes = {\n",
    "    \"Alabama\": \"AL\",\n",
    "    \"Alaska\": \"AK\",\n",
    "    \"Arizona\": \"AZ\",\n",
    "    \"Arkansas\": \"AR\",\n",
    "    \"California\": \"CA\",\n",
    "    \"Colorado\": \"CO\",\n",
    "    \"Connecticut\": \"CT\",\n",
    "    \"Delaware\": \"DE\",\n",
    "    \"Florida\": \"FL\",\n",
    "    \"Georgia\": \"GA\",\n",
    "    \"Hawaii\": \"HI\",\n",
    "    \"Idaho\": \"ID\",\n",
    "    \"Illinois\": \"IL\",\n",
    "    \"Indiana\": \"IN\",\n",
    "    \"Iowa\": \"IA\",\n",
    "    \"Kansas\": \"KS\",\n",
    "    \"Kentucky\": \"KY\",\n",
    "    \"Louisiana\": \"LA\",\n",
    "    \"Maine\": \"ME\",\n",
    "    \"Maryland\": \"MD\",\n",
    "    \"Massachusetts\": \"MA\",\n",
    "    \"Michigan\": \"MI\",\n",
    "    \"Minnesota\": \"MN\",\n",
    "    \"Mississippi\": \"MS\",\n",
    "    \"Missouri\": \"MO\",\n",
    "    \"Montana\": \"MT\",\n",
    "    \"Nebraska\": \"NE\",\n",
    "    \"Nevada\": \"NV\",\n",
    "    \"New Hampshire\": \"NH\",\n",
    "    \"New Jersey\": \"NJ\",\n",
    "    \"New Mexico\": \"NM\",\n",
    "    \"New York\": \"NY\",\n",
    "    \"North Carolina\": \"NC\",\n",
    "    \"North Dakota\": \"ND\",\n",
    "    \"Ohio\": \"OH\",\n",
    "    \"Oklahoma\": \"OK\",\n",
    "    \"Oregon\": \"OR\",\n",
    "    \"Pennsylvania\": \"PA\",\n",
    "    \"Rhode Island\": \"RI\",\n",
    "    \"South Carolina\": \"SC\",\n",
    "    \"South Dakota\": \"SD\",\n",
    "    \"Tennessee\": \"TN\",\n",
    "    \"Texas\": \"TX\",\n",
    "    \"Utah\": \"UT\",\n",
    "    \"Vermont\": \"VT\",\n",
    "    \"Virginia\": \"VA\",\n",
    "    \"Washington\": \"WA\",\n",
    "    \"West Virginia\": \"WV\",\n",
    "    \"Wisconsin\": \"WI\",\n",
    "    \"Wyoming\": \"WY\"\n",
    "}\n",
    "\n",
    "state_series = df_clean[\"State\"].value_counts(dropna=False)\n",
    "print(state_series)\n",
    "\n",
    "df_clean[\"State\"].replace(us_states_codes, inplace=True)\n",
    "print(df_clean[\"State\"].value_counts(dropna=False))\n",
    "\n",
    "df_clean[\"State\"].replace({\"Cali\":\"CA\"}, inplace=True)\n",
    "print(df_clean[\"State\"].value_counts(dropna=False))\n",
    "\n"
   ]
  },
  {
   "cell_type": "code",
   "execution_count": 5,
   "id": "9cd83ed8",
   "metadata": {},
   "outputs": [
    {
     "name": "stdout",
     "output_type": "stream",
     "text": [
      "Education\n",
      "Bachelor                324\n",
      "College                 313\n",
      "High School or Below    296\n",
      "Master                   94\n",
      "Doctor                   37\n",
      "Bachelors                 7\n",
      "Name: count, dtype: int64\n",
      "Education\n",
      "Bachelor                331\n",
      "College                 313\n",
      "High School or Below    296\n",
      "Master                   94\n",
      "Doctor                   37\n",
      "Name: count, dtype: int64\n"
     ]
    },
    {
     "name": "stderr",
     "output_type": "stream",
     "text": [
      "C:\\Users\\LENOVO\\AppData\\Local\\Temp\\ipykernel_41808\\3557487289.py:4: FutureWarning: A value is trying to be set on a copy of a DataFrame or Series through chained assignment using an inplace method.\n",
      "The behavior will change in pandas 3.0. This inplace method will never work because the intermediate object on which we are setting values always behaves as a copy.\n",
      "\n",
      "For example, when doing 'df[col].method(value, inplace=True)', try using 'df.method({col: value}, inplace=True)' or df[col] = df[col].method(value) instead, to perform the operation inplace on the original object.\n",
      "\n",
      "\n",
      "  df_clean[\"Education\"].replace({\"Bachelors\":\"Bachelor\"}, inplace=True)\n"
     ]
    }
   ],
   "source": [
    "series = df_clean[\"Education\"].value_counts(dropna=False)\n",
    "print(series)\n",
    "\n",
    "df_clean[\"Education\"].replace({\"Bachelors\":\"Bachelor\"}, inplace=True)\n",
    "print(df_clean[\"Education\"].value_counts(dropna=False))\n"
   ]
  },
  {
   "cell_type": "code",
   "execution_count": 6,
   "id": "473c2eeb",
   "metadata": {},
   "outputs": [
    {
     "name": "stdout",
     "output_type": "stream",
     "text": [
      "CLV\n",
      "445811.34%     4\n",
      "251459.20%     4\n",
      "NaN            3\n",
      "2412750.40%    3\n",
      "684615.03%     3\n",
      "              ..\n",
      "1210120.88%    1\n",
      "245357.08%     1\n",
      "507566.27%     1\n",
      "321497.94%     1\n",
      "899704.02%     1\n",
      "Name: count, Length: 1028, dtype: int64\n"
     ]
    }
   ],
   "source": [
    "series = df_clean[\"CLV\"].value_counts(dropna=False)\n",
    "print(series)"
   ]
  },
  {
   "cell_type": "code",
   "execution_count": 7,
   "id": "1bbf013f",
   "metadata": {},
   "outputs": [
    {
     "name": "stdout",
     "output_type": "stream",
     "text": [
      "Income\n",
      "0.0        252\n",
      "43860.0      4\n",
      "17622.0      4\n",
      "36650.0      3\n",
      "14072.0      3\n",
      "          ... \n",
      "29486.0      1\n",
      "58557.0      1\n",
      "25632.0      1\n",
      "18768.0      1\n",
      "54230.0      1\n",
      "Name: count, Length: 774, dtype: int64\n"
     ]
    }
   ],
   "source": [
    "series = df_clean[\"Income\"].value_counts(dropna=False)\n",
    "print(series)"
   ]
  },
  {
   "cell_type": "code",
   "execution_count": 8,
   "id": "544b5e53",
   "metadata": {},
   "outputs": [
    {
     "name": "stdout",
     "output_type": "stream",
     "text": [
      "MPA\n",
      "65.0     47\n",
      "63.0     39\n",
      "71.0     37\n",
      "67.0     37\n",
      "73.0     37\n",
      "         ..\n",
      "177.0     1\n",
      "181.0     1\n",
      "276.0     1\n",
      "253.0     1\n",
      "199.0     1\n",
      "Name: count, Length: 132, dtype: int64\n"
     ]
    }
   ],
   "source": [
    "series = df_clean[\"MPA\"].value_counts(dropna=False)\n",
    "print(series)"
   ]
  },
  {
   "cell_type": "code",
   "execution_count": 9,
   "id": "0304152d",
   "metadata": {},
   "outputs": [
    {
     "name": "stdout",
     "output_type": "stream",
     "text": [
      "PolicyType\n",
      "Personal Auto     780\n",
      "Corporate Auto    234\n",
      "Special Auto       57\n",
      "Name: count, dtype: int64\n"
     ]
    }
   ],
   "source": [
    "series = df_clean[\"PolicyType\"].value_counts(dropna=False)\n",
    "print(series)"
   ]
  },
  {
   "cell_type": "code",
   "execution_count": 10,
   "id": "4f8f2c78",
   "metadata": {},
   "outputs": [
    {
     "name": "stdout",
     "output_type": "stream",
     "text": [
      "VehicleClass\n",
      "Four-Door Car    576\n",
      "Two-Door Car     205\n",
      "SUV              199\n",
      "Sports Car        57\n",
      "Luxury SUV        20\n",
      "Luxury Car        14\n",
      "Name: count, dtype: int64\n"
     ]
    }
   ],
   "source": [
    "series = df_clean[\"VehicleClass\"].value_counts(dropna=False)\n",
    "print(series)"
   ]
  },
  {
   "cell_type": "code",
   "execution_count": 11,
   "id": "e025e607",
   "metadata": {},
   "outputs": [
    {
     "name": "stdout",
     "output_type": "stream",
     "text": [
      "TCA\n",
      "321.600000    19\n",
      "331.200000    15\n",
      "312.000000    14\n",
      "350.400000    14\n",
      "316.800000    12\n",
      "              ..\n",
      "421.484456     1\n",
      "430.505942     1\n",
      "7.646763       1\n",
      "55.510526      1\n",
      "207.320041     1\n",
      "Name: count, Length: 761, dtype: int64\n"
     ]
    }
   ],
   "source": [
    "series = df_clean[\"TCA\"].value_counts(dropna=False)\n",
    "print(series)"
   ]
  },
  {
   "cell_type": "markdown",
   "id": "4a703890-63db-4944-b7ab-95a4f8185120",
   "metadata": {},
   "source": [
    "## Challenge 2: analyzing the data"
   ]
  },
  {
   "cell_type": "markdown",
   "id": "0776a403-c56a-452f-ac33-5fd4fdb06fc7",
   "metadata": {},
   "source": [
    "### Exercise 1"
   ]
  },
  {
   "cell_type": "markdown",
   "id": "eedbc484-da4d-4f9c-9343-e1d44311a87e",
   "metadata": {},
   "source": [
    "The marketing team wants to know the top 5 less common customer locations. Create a pandas Series object that contains the customer locations and their frequencies, and then retrieve the top 5 less common locations in ascending order."
   ]
  },
  {
   "cell_type": "code",
   "execution_count": 12,
   "id": "2dca5073-4520-4f42-9390-4b92733284ed",
   "metadata": {},
   "outputs": [
    {
     "name": "stdout",
     "output_type": "stream",
     "text": [
      "State\n",
      "NV     98\n",
      "WA    111\n",
      "AZ    211\n",
      "OR    320\n",
      "CA    331\n",
      "Name: count, dtype: int64\n"
     ]
    }
   ],
   "source": [
    "# There are only 5 locations\n",
    "five_worst = df_clean[\"State\"].value_counts(ascending=True)\n",
    "print(five_worst.head(5))"
   ]
  },
  {
   "cell_type": "markdown",
   "id": "0ce80f43-4afa-43c7-a78a-c917444da4e0",
   "metadata": {},
   "source": [
    "### Exercise 2\n",
    "\n",
    "The sales team wants to know the total number of policies sold for each type of policy. Create a pandas Series object that contains the policy types and their total number of policies sold, and then retrieve the policy type with the highest number of policies sold."
   ]
  },
  {
   "cell_type": "markdown",
   "id": "a9f13997-1555-4f98-aca6-970fda1d2c3f",
   "metadata": {},
   "source": [
    "*Hint:*\n",
    "- *Using value_counts() method simplifies this analysis.*\n",
    "- *Futhermore, there is a method that returns the index of the maximum value in a column or row.*\n"
   ]
  },
  {
   "cell_type": "code",
   "execution_count": 13,
   "id": "bcfad6c1-9af2-4b0b-9aa9-0dc5c17473c0",
   "metadata": {},
   "outputs": [
    {
     "name": "stdout",
     "output_type": "stream",
     "text": [
      "PolicyType\n",
      "Personal Auto     780\n",
      "Corporate Auto    234\n",
      "Special Auto       57\n",
      "Name: count, dtype: int64\n",
      "Best Policy: Personal Auto\n"
     ]
    }
   ],
   "source": [
    "# Your code here\n",
    "policy_series = df_clean[\"PolicyType\"].value_counts()\n",
    "print(policy_series)\n",
    "\n",
    "best_policy = policy_series.idxmax()\n",
    "print(\"Best Policy:\", best_policy)"
   ]
  },
  {
   "cell_type": "markdown",
   "id": "0b863fd3-bf91-4d5d-86eb-be29ed9f5b70",
   "metadata": {},
   "source": [
    "### Exercise 3\n",
    "\n",
    "The sales team wants to know if customers with Personal Auto have a lower income than those with Corporate Auto. How does the average income compare between the two policy types?"
   ]
  },
  {
   "cell_type": "markdown",
   "id": "b1386d75-2810-4aa1-93e0-9485aa12d552",
   "metadata": {},
   "source": [
    "- Use *loc* to create two dataframes: one containing only Personal Auto policies and one containing only Corporate Auto policies.\n",
    "- Calculate the average income for each policy.\n",
    "- Print the results."
   ]
  },
  {
   "cell_type": "code",
   "execution_count": 14,
   "id": "0c0563cf-6f8b-463d-a321-651a972f82e5",
   "metadata": {},
   "outputs": [
    {
     "name": "stdout",
     "output_type": "stream",
     "text": [
      "Personal Auto Average Income: 38180.69871794872\n",
      "Corporate Auto Average Income: 41390.31196581197\n",
      "Corrected Personal Auto Average Income: 50390.769881556684\n",
      "Corrected Corporate Auto Average Income: 54108.00558659218\n"
     ]
    }
   ],
   "source": [
    "# Your code here\n",
    "PA_series = df_clean.loc[df_clean[\"PolicyType\"] == \"Personal Auto\"]\n",
    "\n",
    "CA_series = df_clean.loc[df_clean[\"PolicyType\"] == \"Corporate Auto\"]\n",
    "\n",
    "PA_avg = PA_series[\"Income\"].mean()\n",
    "CA_avg = CA_series[\"Income\"].mean()\n",
    "\n",
    "print(\"Personal Auto Average Income:\", PA_avg)\n",
    "print(\"Corporate Auto Average Income:\", CA_avg)\n",
    "\n",
    "#if we remove 0.0 values:\n",
    "\n",
    "PA_series = df_clean.loc[(df_clean[\"PolicyType\"] == \"Personal Auto\") & (df_clean[\"Income\"] != 0.0)]\n",
    "\n",
    "CA_series = df_clean.loc[(df_clean[\"PolicyType\"] == \"Corporate Auto\") & (df_clean[\"Income\"] != 0.0)]\n",
    "\n",
    "PA_avg = PA_series[\"Income\"].mean()\n",
    "CA_avg = CA_series[\"Income\"].mean()\n",
    "\n",
    "print(\"Corrected Personal Auto Average Income:\", PA_avg)\n",
    "print(\"Corrected Corporate Auto Average Income:\", CA_avg)"
   ]
  },
  {
   "cell_type": "markdown",
   "id": "80b16c27-f4a5-4727-a229-1f88671cf4e2",
   "metadata": {},
   "source": [
    "### Bonus: Exercise 4\n"
   ]
  },
  {
   "cell_type": "markdown",
   "id": "ac584986-299b-475f-ac2e-928c16c3f512",
   "metadata": {},
   "source": [
    "Your goal is to identify customers with a high policy claim amount.\n",
    "\n",
    "Instructions:\n",
    "\n",
    "- Review again the statistics for total claim amount to gain an understanding of the data.\n",
    "- To identify potential areas for improving customer retention and profitability, we want to focus on customers with a high policy claim amount. Consider customers with a high policy claim amount to be those in the top 25% of the total claim amount. Create a pandas DataFrame object that contains information about customers with a policy claim amount greater than the 75th percentile.\n",
    "- Use DataFrame methods to calculate summary statistics about the high policy claim amount data. "
   ]
  },
  {
   "cell_type": "markdown",
   "id": "4e3af5f1-6023-4b05-9c01-d05392daa650",
   "metadata": {},
   "source": [
    "*Note: When analyzing data, we often want to focus on certain groups of values to gain insights. Percentiles are a useful tool to help us define these groups. A percentile is a measure that tells us what percentage of values in a dataset are below a certain value. For example, the 75th percentile represents the value below which 75% of the data falls. Similarly, the 25th percentile represents the value below which 25% of the data falls. When we talk about the top 25%, we are referring to the values that fall above the 75th percentile, which represent the top quarter of the data. On the other hand, when we talk about the bottom 25%, we are referring to the values that fall below the 25th percentile, which represent the bottom quarter of the data. By focusing on these groups, we can identify patterns and trends that may be useful for making decisions and taking action.*\n",
    "\n",
    "*Hint: look for a method that gives you the percentile or quantile 0.75 and 0.25 for a Pandas Series.*"
   ]
  },
  {
   "cell_type": "markdown",
   "id": "2d234634-50bd-41e0-88f7-d5ba684455d1",
   "metadata": {},
   "source": [
    "*Hint 2: check `Boolean selection according to the values of a single column` in https://towardsdatascience.com/filtering-data-frames-in-pandas-b570b1f834b9*"
   ]
  },
  {
   "cell_type": "code",
   "execution_count": 15,
   "id": "b731bca6-a760-4860-a27b-a33efa712ce0",
   "metadata": {},
   "outputs": [
    {
     "name": "stdout",
     "output_type": "stream",
     "text": [
      "Info on the top 25%:\n",
      "Average Income: 23677.344696969696\n",
      "Location: State\n",
      "OR    90\n",
      "CA    86\n",
      "AZ    49\n",
      "NV    29\n",
      "WA    10\n",
      "Name: count, dtype: int64\n",
      "Gender: Gender\n",
      "F    122\n",
      "M    116\n",
      "Name: count, dtype: int64\n",
      "Info on the bottom 75%:\n",
      "Average Income: 44405.05204460966\n",
      "Location: State\n",
      "CA    245\n",
      "OR    230\n",
      "AZ    162\n",
      "WA    101\n",
      "NV     69\n",
      "Name: count, dtype: int64\n",
      "Gender: Gender\n",
      "F    380\n",
      "M    336\n",
      "Name: count, dtype: int64\n"
     ]
    }
   ],
   "source": [
    "# Your code here\n",
    "\n",
    "top = df_clean[\"TCA\"].quantile(0.75)\n",
    "bottom = df_clean[\"TCA\"].quantile(0.25)\n",
    "\n",
    "top_df = df_clean.loc[(df_clean[\"TCA\"] > top)]\n",
    "rest_df = df_clean.loc[(df_clean[\"TCA\"] <= top)]\n",
    "\n",
    "print(\"Info on the top 25%:\")\n",
    "print(\"Average Income:\", top_df[\"Income\"].mean())\n",
    "print(\"Location:\", top_df[\"State\"].value_counts())\n",
    "print(\"Gender:\", top_df[\"Gender\"].value_counts())\n",
    "\n",
    "print(\"Info on the bottom 75%:\")\n",
    "print(\"Average Income:\", rest_df[\"Income\"].mean())\n",
    "print(\"Location:\", rest_df[\"State\"].value_counts())\n",
    "print(\"Gender:\", rest_df[\"Gender\"].value_counts())"
   ]
  }
 ],
 "metadata": {
  "kernelspec": {
   "display_name": "Python 3 (ipykernel)",
   "language": "python",
   "name": "python3"
  },
  "language_info": {
   "codemirror_mode": {
    "name": "ipython",
    "version": 3
   },
   "file_extension": ".py",
   "mimetype": "text/x-python",
   "name": "python",
   "nbconvert_exporter": "python",
   "pygments_lexer": "ipython3",
   "version": "3.12.4"
  }
 },
 "nbformat": 4,
 "nbformat_minor": 5
}
